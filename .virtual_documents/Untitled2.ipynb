import tensorflow as tf           # Pour le deep learning (réseaux de neurones, entraînement, prédiction, etc.)
import cv2                        # OpenCV : pour lire, afficher, et traiter des images ou vidéos
import os                         # Pour gérer les chemins et les fichiers
import matplotlib.pyplot as plt   # Pour afficher les images, les courbes, etc. (librairie de visualisation)
import numpy as np                # Pour le calcul numérique, très utilisé en IA (ex. manipulation de matrices/images)



img_array = cv2.imread("train/0/Training_3908.jpg")


img_array.shape


plt.imshow(img_array)


import os

print("Current working directory:", os.getcwd())
print("Files and folders in this directory:", os.listdir())



DataDirectory = "./train/"



classes =["0","1","2","3","4","5","6"]


for category in classes:
    path = os.path.join(DataDirectory, category)
    for img in os.listdir(path):
        img_array = cv2.imread(os.path.join(path,img))
        plt.imshow(cv2.cvtColor(img_array, cv2.COLOR_BGR2RGB))
        plt.show()
        #pour parcourir tout les photos
        break #ta3tina kan awil image min kol category
    


img_size= 224
new_array= cv2.resize(img_array, (img_size,img_size))
plt.imshow(cv2.cvtColor(new_array, cv2.COLOR_BGR2RGB))
plt.show()
#badilna el size 55ater el trasfor learning (if i want to use any particular deep learning classifier that takes 224*224)


new_array.shape






training_data = []

def creat_training_data ():
    for category in classes:
        path = os.path.join(DataDirectory, category)
        class_num = classes.index(category) #label
        LIMIT_PER_CLASS = 2000
        images_loaded = 0
        for img in os.listdir(path):
            try:
                img_array = cv2.imread(os.path.join(path,img))
                new_array= cv2.resize(img_array, (img_size,img_size))
                training_data.append([new_array,class_num])
                if images_loaded >= LIMIT_PER_CLASS:
                    break
                images_loaded += 1

            except Exeption as e:
                pass
            
            
        
       


creat_training_data ()


print(len(training_data))


import random
random.shuffle(training_data)


X = [] #data/img/feature
Y = [] #label

for features,label in training_data:
     X.append(features)
     Y.append(label)

X= np.array(X).reshape(-1, img_size ,img_size, 3)



X.shape


#normalize the data => t7awil el ar9m fil array l 0<=x>=1
X = np.array(X).astype('float32')  # This ensures data is float32
Y = np.array(Y).astype('int32') 
X = X / 255.0
 #el aswid 255 w abyidh 0


type(Y)



Y.shape





import tensorflow as tf
from tensorflow import keras 
from tensorflow.keras import layers


model = tf.keras.applications.MobileNetV2() # pre trained model


model.summary()


base_input = model.layers[1].input


base_output = model.layers[-2].output



base_input 


final_output = layers.Dense(128)(base_output)
final_output = layers.Activation('relu')(final_output)
final_output = layers.Dense(64)(final_output)
final_output = layers.Activation('relu')(final_output)
final_output = layers.Dense(7,activation='softmax')(final_output) #softmax 5ater hethy my classification layer




final_output


new_model = keras.Model(inputs= base_input, outputs= final_output)


new_model.summary()


for layer in model.layers:
    layer.trainable = False



new_model.compile(loss="sparse_categorical_crossentropy", optimizer = "adam", metrics = ["accuracy"])


new_model.fit(X,Y, epochs = 25)


print(X.shape, X.dtype)
print(Y.shape, Y.dtype)




print(type(X))
print(X.dtype)




