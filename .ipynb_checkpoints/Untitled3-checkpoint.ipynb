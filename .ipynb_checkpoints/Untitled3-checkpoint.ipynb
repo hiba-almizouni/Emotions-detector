{
 "cells": [
  {
   "cell_type": "code",
   "execution_count": 1,
   "id": "6569390c-3432-400d-86ae-65b13cbc40fc",
   "metadata": {},
   "outputs": [],
   "source": [
    "import cv2\n",
    "import numpy as np\n",
    "from keras.models import load_model\n",
    "from PIL import Image\n",
    "from IPython.display import display, clear_output     "
   ]
  },
  {
   "cell_type": "code",
   "execution_count": 3,
   "id": "89d7e21e-5660-40bd-8373-48dde2aea847",
   "metadata": {},
   "outputs": [],
   "source": [
    "from tensorflow.keras.models import load_model\n",
    "new_model = load_model(\"C:/Users/pc/OneDrive/Bureau/emotion detector/my_modelfinale2.keras\")\n",
    "new_model = load_model(\"my_modelfinale2.keras\")"
   ]
  },
  {
   "cell_type": "code",
   "execution_count": null,
   "id": "6be0cf9d-8fb4-47ac-bdc9-f9818daf0a1b",
   "metadata": {},
   "outputs": [],
   "source": [
    "\n",
    "cap = cv2.VideoCapture(0)  \n",
    "\n",
    "faceCascade = cv2.CascadeClassifier(cv2.data.haarcascades + 'haarcascade_frontalface_default.xml')\n",
    "def capture_and_process_frame():\n",
    "    ret, frame = cap.read() \n",
    "    if not ret:\n",
    "        print(\"Failed to grab frame.\")\n",
    "        return\n",
    "    gray = cv2.cvtColor(frame, cv2.COLOR_BGR2GRAY)\n",
    "    faces = faceCascade.detectMultiScale(gray, 1.1, 4)\n",
    "    for (x, y, w, h) in faces:\n",
    "        cv2.rectangle(frame, (x, y), (x + w, y + h), (255, 0, 0), 2)\n",
    "        roi_gray = gray[y:y + h, x:x + w]\n",
    "        roi_color = frame[y:y + h, x:x + w]\n",
    "        final_image = cv2.resize(roi_color, (224, 224))\n",
    "        final_image = np.expand_dims(final_image, axis=0) \n",
    "        final_image = final_image / 255.0  \n",
    "        predictions = new_model.predict(final_image)\n",
    "        emotion_labels = [\"Angry\", \"Disgust\", \"fear\", \"happy\", \"neutral\", \"sad\", \"Surprised\"]\n",
    "        status = emotion_labels[np.argmax(predictions)]\n",
    "        top_indices = np.argsort(predictions[0])[::-1][:3]  # Top 3\n",
    "        for i, idx in enumerate(top_indices):\n",
    "             text = f\"{emotion_labels[idx]}: {predictions[0][idx]*100:.1f}%\"\n",
    "            cv2.putText(frame, text, (x, y + h + 25 + i*25), cv2.FONT_HERSHEY_SIMPLEX, 0.6, (0, 255, 0), 2)\n",
    "        font = cv2.FONT_HERSHEY_SIMPLEX\n",
    "        cv2.putText(frame, status, (x, y - 10), font, 0.9, (0, 0, 255), 2)\n",
    "    frame_rgb = cv2.cvtColor(frame, cv2.COLOR_BGR2RGB)  \n",
    "    img = Image.fromarray(frame_rgb)  \n",
    "    clear_output(wait=True)  \n",
    "    display(img)  \n",
    "try:\n",
    "    while True:\n",
    "        capture_and_process_frame()\n",
    "        if cv2.waitKey(1) & 0xFF == ord('q'):  \n",
    "            break\n",
    "finally:\n",
    "    cap.release() \n",
    "    cv2.destroyAllWindows() "
   ]
  },
  {
   "cell_type": "code",
   "execution_count": null,
   "id": "a3775ea7-2a66-4c91-a57c-ea78b04ef339",
   "metadata": {},
   "outputs": [],
   "source": []
  }
 ],
 "metadata": {
  "kernelspec": {
   "display_name": "Python [conda env:base] *",
   "language": "python",
   "name": "conda-base-py"
  },
  "language_info": {
   "codemirror_mode": {
    "name": "ipython",
    "version": 3
   },
   "file_extension": ".py",
   "mimetype": "text/x-python",
   "name": "python",
   "nbconvert_exporter": "python",
   "pygments_lexer": "ipython3",
   "version": "3.12.7"
  }
 },
 "nbformat": 4,
 "nbformat_minor": 5
}
